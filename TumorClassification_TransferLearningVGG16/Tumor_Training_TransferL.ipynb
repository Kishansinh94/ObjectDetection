{
  "nbformat": 4,
  "nbformat_minor": 0,
  "metadata": {
    "colab": {
      "name": "Canceer_detect_Vgg16.ipynb",
      "provenance": [],
      "collapsed_sections": []
    },
    "kernelspec": {
      "name": "python3",
      "display_name": "Python 3"
    },
    "language_info": {
      "name": "python"
    }
  },
  "cells": [
    {
      "cell_type": "code",
      "metadata": {
        "colab": {
          "base_uri": "https://localhost:8080/"
        },
        "id": "mwYyMVDuxJwz",
        "outputId": "faec6834-b51f-4dd6-eece-ee05e0a59248"
      },
      "source": [
        "from google.colab import drive\n",
        "drive.mount('/content/drive')"
      ],
      "execution_count": null,
      "outputs": [
        {
          "output_type": "stream",
          "text": [
            "Mounted at /content/drive\n"
          ],
          "name": "stdout"
        }
      ]
    },
    {
      "cell_type": "code",
      "metadata": {
        "colab": {
          "base_uri": "https://localhost:8080/"
        },
        "id": "y3VZ8k-xxnD1",
        "outputId": "a6d92cff-1a3a-44ad-9094-d695929c74d8"
      },
      "source": [
        "%cd /content/drive/MyDrive/vgg_cancer"
      ],
      "execution_count": null,
      "outputs": [
        {
          "output_type": "stream",
          "text": [
            "/content/drive/MyDrive/vgg_cancer\n"
          ],
          "name": "stdout"
        }
      ]
    },
    {
      "cell_type": "code",
      "metadata": {
        "id": "VV1XqAwSxue9"
      },
      "source": [
        "import numpy as np\n",
        "import os\n",
        "import time\n",
        "\n",
        "from keras.preprocessing import image\n",
        "from keras.applications.imagenet_utils import preprocess_input\n",
        "from keras.applications.imagenet_utils import decode_predictions\n",
        "from keras.layers import Dense, Activation, Flatten\n",
        "from keras.layers import merge, Input\n",
        "from keras.models import Model\n",
        "from keras.utils import np_utils\n",
        "from sklearn.utils import shuffle\n",
        "from sklearn.model_selection import train_test_split\n",
        "\n",
        "\n",
        "PATH = os.getcwd()\n"
      ],
      "execution_count": null,
      "outputs": []
    },
    {
      "cell_type": "code",
      "metadata": {
        "colab": {
          "base_uri": "https://localhost:8080/"
        },
        "id": "FWXaxWI4xyRA",
        "outputId": "cbeee0b1-2332-439f-94c8-8012ac53ec7b"
      },
      "source": [
        "# Loading the training data\n",
        "\n",
        "# Define data path\n",
        "data_path = PATH + '/data'\n",
        "#Checking the path \n",
        "data_dir_list = os.listdir(data_path)\n",
        "print(data_dir_list)\n",
        "\n",
        "#Defining the blank list for lable \n",
        "img_data_list=[]\n"
      ],
      "execution_count": null,
      "outputs": [
        {
          "output_type": "stream",
          "text": [
            "['no', 'yes']\n"
          ],
          "name": "stdout"
        }
      ]
    },
    {
      "cell_type": "code",
      "metadata": {
        "colab": {
          "base_uri": "https://localhost:8080/"
        },
        "id": "P5ls_IW8z00O",
        "outputId": "6a100827-9c55-44c0-9faa-c79e42a3c538"
      },
      "source": [
        "for dataset in data_dir_list:\n",
        "\timg_list=os.listdir(data_path+'/'+ dataset)\n",
        "\tprint ('Loaded the images of dataset-'+'{}\\n'.format(dataset))\n",
        "    \n",
        "\tfor img in img_list:\n",
        "\t\timg_path = data_path + '/'+ dataset + '/'+ img\n",
        "\t\timg = image.load_img(img_path, target_size=(224, 224))\n",
        "\t\tx = image.img_to_array(img)\n",
        "\t\tx = np.expand_dims(x, axis=0)\n",
        "\t\tx = preprocess_input(x)\n",
        "#\t\tx = x/255\n",
        "\t\tprint('Input image shape:', x.shape)\n",
        "\t\timg_data_list.append(x)\n"
      ],
      "execution_count": null,
      "outputs": [
        {
          "output_type": "stream",
          "text": [
            "Loaded the images of dataset-no\n",
            "\n",
            "Input image shape: (1, 224, 224, 3)\n",
            "Input image shape: (1, 224, 224, 3)\n",
            "Input image shape: (1, 224, 224, 3)\n",
            "Input image shape: (1, 224, 224, 3)\n",
            "Input image shape: (1, 224, 224, 3)\n",
            "Input image shape: (1, 224, 224, 3)\n",
            "Input image shape: (1, 224, 224, 3)\n",
            "Input image shape: (1, 224, 224, 3)\n",
            "Input image shape: (1, 224, 224, 3)\n",
            "Input image shape: (1, 224, 224, 3)\n",
            "Input image shape: (1, 224, 224, 3)\n",
            "Input image shape: (1, 224, 224, 3)\n",
            "Input image shape: (1, 224, 224, 3)\n",
            "Input image shape: (1, 224, 224, 3)\n",
            "Input image shape: (1, 224, 224, 3)\n",
            "Input image shape: (1, 224, 224, 3)\n",
            "Input image shape: (1, 224, 224, 3)\n",
            "Input image shape: (1, 224, 224, 3)\n",
            "Input image shape: (1, 224, 224, 3)\n",
            "Input image shape: (1, 224, 224, 3)\n",
            "Input image shape: (1, 224, 224, 3)\n",
            "Input image shape: (1, 224, 224, 3)\n",
            "Input image shape: (1, 224, 224, 3)\n",
            "Input image shape: (1, 224, 224, 3)\n",
            "Input image shape: (1, 224, 224, 3)\n",
            "Input image shape: (1, 224, 224, 3)\n",
            "Input image shape: (1, 224, 224, 3)\n",
            "Input image shape: (1, 224, 224, 3)\n",
            "Input image shape: (1, 224, 224, 3)\n",
            "Input image shape: (1, 224, 224, 3)\n",
            "Input image shape: (1, 224, 224, 3)\n",
            "Input image shape: (1, 224, 224, 3)\n",
            "Input image shape: (1, 224, 224, 3)\n",
            "Input image shape: (1, 224, 224, 3)\n",
            "Input image shape: (1, 224, 224, 3)\n",
            "Input image shape: (1, 224, 224, 3)\n",
            "Input image shape: (1, 224, 224, 3)\n",
            "Input image shape: (1, 224, 224, 3)\n",
            "Input image shape: (1, 224, 224, 3)\n",
            "Input image shape: (1, 224, 224, 3)\n",
            "Input image shape: (1, 224, 224, 3)\n",
            "Input image shape: (1, 224, 224, 3)\n",
            "Input image shape: (1, 224, 224, 3)\n",
            "Input image shape: (1, 224, 224, 3)\n",
            "Input image shape: (1, 224, 224, 3)\n",
            "Input image shape: (1, 224, 224, 3)\n",
            "Input image shape: (1, 224, 224, 3)\n",
            "Input image shape: (1, 224, 224, 3)\n",
            "Input image shape: (1, 224, 224, 3)\n",
            "Input image shape: (1, 224, 224, 3)\n",
            "Input image shape: (1, 224, 224, 3)\n",
            "Input image shape: (1, 224, 224, 3)\n",
            "Input image shape: (1, 224, 224, 3)\n",
            "Input image shape: (1, 224, 224, 3)\n",
            "Input image shape: (1, 224, 224, 3)\n",
            "Input image shape: (1, 224, 224, 3)\n",
            "Input image shape: (1, 224, 224, 3)\n",
            "Input image shape: (1, 224, 224, 3)\n",
            "Input image shape: (1, 224, 224, 3)\n",
            "Input image shape: (1, 224, 224, 3)\n",
            "Input image shape: (1, 224, 224, 3)\n",
            "Input image shape: (1, 224, 224, 3)\n",
            "Input image shape: (1, 224, 224, 3)\n",
            "Input image shape: (1, 224, 224, 3)\n",
            "Input image shape: (1, 224, 224, 3)\n",
            "Input image shape: (1, 224, 224, 3)\n",
            "Input image shape: (1, 224, 224, 3)\n",
            "Input image shape: (1, 224, 224, 3)\n",
            "Input image shape: (1, 224, 224, 3)\n",
            "Input image shape: (1, 224, 224, 3)\n",
            "Input image shape: (1, 224, 224, 3)\n",
            "Input image shape: (1, 224, 224, 3)\n",
            "Input image shape: (1, 224, 224, 3)\n",
            "Input image shape: (1, 224, 224, 3)\n",
            "Input image shape: (1, 224, 224, 3)\n",
            "Input image shape: (1, 224, 224, 3)\n",
            "Input image shape: (1, 224, 224, 3)\n",
            "Input image shape: (1, 224, 224, 3)\n",
            "Input image shape: (1, 224, 224, 3)\n",
            "Input image shape: (1, 224, 224, 3)\n",
            "Input image shape: (1, 224, 224, 3)\n",
            "Input image shape: (1, 224, 224, 3)\n",
            "Input image shape: (1, 224, 224, 3)\n",
            "Input image shape: (1, 224, 224, 3)\n",
            "Input image shape: (1, 224, 224, 3)\n",
            "Input image shape: (1, 224, 224, 3)\n",
            "Input image shape: (1, 224, 224, 3)\n",
            "Input image shape: (1, 224, 224, 3)\n",
            "Input image shape: (1, 224, 224, 3)\n",
            "Input image shape: (1, 224, 224, 3)\n",
            "Input image shape: (1, 224, 224, 3)\n",
            "Input image shape: (1, 224, 224, 3)\n",
            "Input image shape: (1, 224, 224, 3)\n",
            "Input image shape: (1, 224, 224, 3)\n",
            "Input image shape: (1, 224, 224, 3)\n",
            "Input image shape: (1, 224, 224, 3)\n",
            "Input image shape: (1, 224, 224, 3)\n",
            "Input image shape: (1, 224, 224, 3)\n",
            "Loaded the images of dataset-yes\n",
            "\n",
            "Input image shape: (1, 224, 224, 3)\n",
            "Input image shape: (1, 224, 224, 3)\n",
            "Input image shape: (1, 224, 224, 3)\n",
            "Input image shape: (1, 224, 224, 3)\n",
            "Input image shape: (1, 224, 224, 3)\n",
            "Input image shape: (1, 224, 224, 3)\n",
            "Input image shape: (1, 224, 224, 3)\n",
            "Input image shape: (1, 224, 224, 3)\n",
            "Input image shape: (1, 224, 224, 3)\n",
            "Input image shape: (1, 224, 224, 3)\n",
            "Input image shape: (1, 224, 224, 3)\n",
            "Input image shape: (1, 224, 224, 3)\n",
            "Input image shape: (1, 224, 224, 3)\n",
            "Input image shape: (1, 224, 224, 3)\n",
            "Input image shape: (1, 224, 224, 3)\n",
            "Input image shape: (1, 224, 224, 3)\n",
            "Input image shape: (1, 224, 224, 3)\n",
            "Input image shape: (1, 224, 224, 3)\n",
            "Input image shape: (1, 224, 224, 3)\n",
            "Input image shape: (1, 224, 224, 3)\n",
            "Input image shape: (1, 224, 224, 3)\n",
            "Input image shape: (1, 224, 224, 3)\n",
            "Input image shape: (1, 224, 224, 3)\n",
            "Input image shape: (1, 224, 224, 3)\n",
            "Input image shape: (1, 224, 224, 3)\n",
            "Input image shape: (1, 224, 224, 3)\n",
            "Input image shape: (1, 224, 224, 3)\n",
            "Input image shape: (1, 224, 224, 3)\n",
            "Input image shape: (1, 224, 224, 3)\n",
            "Input image shape: (1, 224, 224, 3)\n",
            "Input image shape: (1, 224, 224, 3)\n",
            "Input image shape: (1, 224, 224, 3)\n",
            "Input image shape: (1, 224, 224, 3)\n",
            "Input image shape: (1, 224, 224, 3)\n",
            "Input image shape: (1, 224, 224, 3)\n",
            "Input image shape: (1, 224, 224, 3)\n",
            "Input image shape: (1, 224, 224, 3)\n",
            "Input image shape: (1, 224, 224, 3)\n",
            "Input image shape: (1, 224, 224, 3)\n",
            "Input image shape: (1, 224, 224, 3)\n",
            "Input image shape: (1, 224, 224, 3)\n",
            "Input image shape: (1, 224, 224, 3)\n",
            "Input image shape: (1, 224, 224, 3)\n",
            "Input image shape: (1, 224, 224, 3)\n",
            "Input image shape: (1, 224, 224, 3)\n",
            "Input image shape: (1, 224, 224, 3)\n",
            "Input image shape: (1, 224, 224, 3)\n",
            "Input image shape: (1, 224, 224, 3)\n",
            "Input image shape: (1, 224, 224, 3)\n",
            "Input image shape: (1, 224, 224, 3)\n",
            "Input image shape: (1, 224, 224, 3)\n",
            "Input image shape: (1, 224, 224, 3)\n",
            "Input image shape: (1, 224, 224, 3)\n",
            "Input image shape: (1, 224, 224, 3)\n",
            "Input image shape: (1, 224, 224, 3)\n",
            "Input image shape: (1, 224, 224, 3)\n",
            "Input image shape: (1, 224, 224, 3)\n",
            "Input image shape: (1, 224, 224, 3)\n",
            "Input image shape: (1, 224, 224, 3)\n",
            "Input image shape: (1, 224, 224, 3)\n",
            "Input image shape: (1, 224, 224, 3)\n",
            "Input image shape: (1, 224, 224, 3)\n",
            "Input image shape: (1, 224, 224, 3)\n",
            "Input image shape: (1, 224, 224, 3)\n",
            "Input image shape: (1, 224, 224, 3)\n",
            "Input image shape: (1, 224, 224, 3)\n",
            "Input image shape: (1, 224, 224, 3)\n",
            "Input image shape: (1, 224, 224, 3)\n",
            "Input image shape: (1, 224, 224, 3)\n",
            "Input image shape: (1, 224, 224, 3)\n",
            "Input image shape: (1, 224, 224, 3)\n",
            "Input image shape: (1, 224, 224, 3)\n",
            "Input image shape: (1, 224, 224, 3)\n",
            "Input image shape: (1, 224, 224, 3)\n",
            "Input image shape: (1, 224, 224, 3)\n",
            "Input image shape: (1, 224, 224, 3)\n",
            "Input image shape: (1, 224, 224, 3)\n",
            "Input image shape: (1, 224, 224, 3)\n",
            "Input image shape: (1, 224, 224, 3)\n",
            "Input image shape: (1, 224, 224, 3)\n",
            "Input image shape: (1, 224, 224, 3)\n",
            "Input image shape: (1, 224, 224, 3)\n",
            "Input image shape: (1, 224, 224, 3)\n",
            "Input image shape: (1, 224, 224, 3)\n",
            "Input image shape: (1, 224, 224, 3)\n",
            "Input image shape: (1, 224, 224, 3)\n",
            "Input image shape: (1, 224, 224, 3)\n",
            "Input image shape: (1, 224, 224, 3)\n",
            "Input image shape: (1, 224, 224, 3)\n",
            "Input image shape: (1, 224, 224, 3)\n",
            "Input image shape: (1, 224, 224, 3)\n",
            "Input image shape: (1, 224, 224, 3)\n",
            "Input image shape: (1, 224, 224, 3)\n",
            "Input image shape: (1, 224, 224, 3)\n",
            "Input image shape: (1, 224, 224, 3)\n",
            "Input image shape: (1, 224, 224, 3)\n",
            "Input image shape: (1, 224, 224, 3)\n",
            "Input image shape: (1, 224, 224, 3)\n",
            "Input image shape: (1, 224, 224, 3)\n",
            "Input image shape: (1, 224, 224, 3)\n",
            "Input image shape: (1, 224, 224, 3)\n",
            "Input image shape: (1, 224, 224, 3)\n",
            "Input image shape: (1, 224, 224, 3)\n",
            "Input image shape: (1, 224, 224, 3)\n",
            "Input image shape: (1, 224, 224, 3)\n",
            "Input image shape: (1, 224, 224, 3)\n",
            "Input image shape: (1, 224, 224, 3)\n",
            "Input image shape: (1, 224, 224, 3)\n",
            "Input image shape: (1, 224, 224, 3)\n",
            "Input image shape: (1, 224, 224, 3)\n",
            "Input image shape: (1, 224, 224, 3)\n",
            "Input image shape: (1, 224, 224, 3)\n",
            "Input image shape: (1, 224, 224, 3)\n",
            "Input image shape: (1, 224, 224, 3)\n",
            "Input image shape: (1, 224, 224, 3)\n",
            "Input image shape: (1, 224, 224, 3)\n",
            "Input image shape: (1, 224, 224, 3)\n",
            "Input image shape: (1, 224, 224, 3)\n",
            "Input image shape: (1, 224, 224, 3)\n",
            "Input image shape: (1, 224, 224, 3)\n",
            "Input image shape: (1, 224, 224, 3)\n",
            "Input image shape: (1, 224, 224, 3)\n",
            "Input image shape: (1, 224, 224, 3)\n",
            "Input image shape: (1, 224, 224, 3)\n",
            "Input image shape: (1, 224, 224, 3)\n",
            "Input image shape: (1, 224, 224, 3)\n",
            "Input image shape: (1, 224, 224, 3)\n",
            "Input image shape: (1, 224, 224, 3)\n",
            "Input image shape: (1, 224, 224, 3)\n",
            "Input image shape: (1, 224, 224, 3)\n",
            "Input image shape: (1, 224, 224, 3)\n",
            "Input image shape: (1, 224, 224, 3)\n",
            "Input image shape: (1, 224, 224, 3)\n",
            "Input image shape: (1, 224, 224, 3)\n",
            "Input image shape: (1, 224, 224, 3)\n",
            "Input image shape: (1, 224, 224, 3)\n",
            "Input image shape: (1, 224, 224, 3)\n",
            "Input image shape: (1, 224, 224, 3)\n",
            "Input image shape: (1, 224, 224, 3)\n",
            "Input image shape: (1, 224, 224, 3)\n",
            "Input image shape: (1, 224, 224, 3)\n",
            "Input image shape: (1, 224, 224, 3)\n",
            "Input image shape: (1, 224, 224, 3)\n",
            "Input image shape: (1, 224, 224, 3)\n",
            "Input image shape: (1, 224, 224, 3)\n",
            "Input image shape: (1, 224, 224, 3)\n",
            "Input image shape: (1, 224, 224, 3)\n",
            "Input image shape: (1, 224, 224, 3)\n",
            "Input image shape: (1, 224, 224, 3)\n",
            "Input image shape: (1, 224, 224, 3)\n",
            "Input image shape: (1, 224, 224, 3)\n",
            "Input image shape: (1, 224, 224, 3)\n",
            "Input image shape: (1, 224, 224, 3)\n",
            "Input image shape: (1, 224, 224, 3)\n",
            "Input image shape: (1, 224, 224, 3)\n"
          ],
          "name": "stdout"
        }
      ]
    },
    {
      "cell_type": "code",
      "metadata": {
        "colab": {
          "base_uri": "https://localhost:8080/"
        },
        "id": "tv9UkWjGz7uv",
        "outputId": "cf19484d-e88c-4bc7-8eb0-c183f07c3c2a"
      },
      "source": [
        "\n",
        "img_data = np.array(img_data_list)\n",
        "#img_data = img_data.astype('float32')\n",
        "print (img_data.shape)\n",
        "img_data=np.rollaxis(img_data,1,0)\n",
        "print (img_data.shape)\n",
        "img_data=img_data[0]\n",
        "print (img_data.shape)"
      ],
      "execution_count": null,
      "outputs": [
        {
          "output_type": "stream",
          "text": [
            "(253, 1, 224, 224, 3)\n",
            "(1, 253, 224, 224, 3)\n",
            "(253, 224, 224, 3)\n"
          ],
          "name": "stdout"
        }
      ]
    },
    {
      "cell_type": "code",
      "metadata": {
        "id": "Gqy6o-Z80Agi"
      },
      "source": [
        "num_classes = 2\n",
        "num_of_samples = img_data.shape[0]\n",
        "labels = np.ones((num_of_samples,),dtype='int64')\n",
        "\n",
        "labels[0:97]=0\n",
        "labels[98:252]=1\n",
        "#labels[0:201]=0\n",
        "#labels[202:457]=1\n",
        "#labels[404:606]=2\n",
        "#labels[606:]=3\n",
        "\n",
        "names = ['No','Yes']"
      ],
      "execution_count": null,
      "outputs": []
    },
    {
      "cell_type": "code",
      "metadata": {
        "colab": {
          "base_uri": "https://localhost:8080/"
        },
        "id": "P0nULW2v0a1Q",
        "outputId": "073718e3-1446-4c68-c363-bc9dd1941e34"
      },
      "source": [
        "Y = np_utils.to_categorical(labels, num_classes)\n",
        "\n",
        "#Shuffle the dataset\n",
        "x,y = shuffle(img_data,Y, random_state=2)\n",
        "# Split the dataset\n",
        "X_train, X_test, y_train, y_test = train_test_split(x, y, test_size=0.2, random_state=2)\n",
        "\n",
        "\n",
        "image_input = Input(shape=(224, 224, 3))\n",
        "\n",
        "#Import pre-trained model\n",
        "from keras.applications import VGG16\n",
        "\n",
        "model = VGG16(input_tensor=image_input, include_top=True,weights='imagenet')\n",
        "model.summary()\n",
        "\n",
        "#Define last layer and freeze all upper layer \n",
        "#from here we can add more layer and fine tune models\n",
        "last_layer = model.get_layer('fc2').output\n",
        "\n",
        "#x= Flatten(name='flatten')(last_layer)\n",
        "#give your number of classes in dense layer (whatever you want to prediction class you have)\n",
        "#softmax function is because multiple classes we have\n",
        "#This is last output layer layer fully connected\n",
        "out = Dense(num_classes, activation='softmax', name='output')(last_layer)\n",
        "custom_vgg_model = Model(image_input, out)\n",
        "custom_vgg_model.summary()"
      ],
      "execution_count": null,
      "outputs": [
        {
          "output_type": "stream",
          "text": [
            "Downloading data from https://storage.googleapis.com/tensorflow/keras-applications/vgg16/vgg16_weights_tf_dim_ordering_tf_kernels.h5\n",
            "553467904/553467096 [==============================] - 6s 0us/step\n",
            "Model: \"vgg16\"\n",
            "_________________________________________________________________\n",
            "Layer (type)                 Output Shape              Param #   \n",
            "=================================================================\n",
            "input_1 (InputLayer)         [(None, 224, 224, 3)]     0         \n",
            "_________________________________________________________________\n",
            "block1_conv1 (Conv2D)        (None, 224, 224, 64)      1792      \n",
            "_________________________________________________________________\n",
            "block1_conv2 (Conv2D)        (None, 224, 224, 64)      36928     \n",
            "_________________________________________________________________\n",
            "block1_pool (MaxPooling2D)   (None, 112, 112, 64)      0         \n",
            "_________________________________________________________________\n",
            "block2_conv1 (Conv2D)        (None, 112, 112, 128)     73856     \n",
            "_________________________________________________________________\n",
            "block2_conv2 (Conv2D)        (None, 112, 112, 128)     147584    \n",
            "_________________________________________________________________\n",
            "block2_pool (MaxPooling2D)   (None, 56, 56, 128)       0         \n",
            "_________________________________________________________________\n",
            "block3_conv1 (Conv2D)        (None, 56, 56, 256)       295168    \n",
            "_________________________________________________________________\n",
            "block3_conv2 (Conv2D)        (None, 56, 56, 256)       590080    \n",
            "_________________________________________________________________\n",
            "block3_conv3 (Conv2D)        (None, 56, 56, 256)       590080    \n",
            "_________________________________________________________________\n",
            "block3_pool (MaxPooling2D)   (None, 28, 28, 256)       0         \n",
            "_________________________________________________________________\n",
            "block4_conv1 (Conv2D)        (None, 28, 28, 512)       1180160   \n",
            "_________________________________________________________________\n",
            "block4_conv2 (Conv2D)        (None, 28, 28, 512)       2359808   \n",
            "_________________________________________________________________\n",
            "block4_conv3 (Conv2D)        (None, 28, 28, 512)       2359808   \n",
            "_________________________________________________________________\n",
            "block4_pool (MaxPooling2D)   (None, 14, 14, 512)       0         \n",
            "_________________________________________________________________\n",
            "block5_conv1 (Conv2D)        (None, 14, 14, 512)       2359808   \n",
            "_________________________________________________________________\n",
            "block5_conv2 (Conv2D)        (None, 14, 14, 512)       2359808   \n",
            "_________________________________________________________________\n",
            "block5_conv3 (Conv2D)        (None, 14, 14, 512)       2359808   \n",
            "_________________________________________________________________\n",
            "block5_pool (MaxPooling2D)   (None, 7, 7, 512)         0         \n",
            "_________________________________________________________________\n",
            "flatten (Flatten)            (None, 25088)             0         \n",
            "_________________________________________________________________\n",
            "fc1 (Dense)                  (None, 4096)              102764544 \n",
            "_________________________________________________________________\n",
            "fc2 (Dense)                  (None, 4096)              16781312  \n",
            "_________________________________________________________________\n",
            "predictions (Dense)          (None, 1000)              4097000   \n",
            "=================================================================\n",
            "Total params: 138,357,544\n",
            "Trainable params: 138,357,544\n",
            "Non-trainable params: 0\n",
            "_________________________________________________________________\n",
            "Model: \"model\"\n",
            "_________________________________________________________________\n",
            "Layer (type)                 Output Shape              Param #   \n",
            "=================================================================\n",
            "input_1 (InputLayer)         [(None, 224, 224, 3)]     0         \n",
            "_________________________________________________________________\n",
            "block1_conv1 (Conv2D)        (None, 224, 224, 64)      1792      \n",
            "_________________________________________________________________\n",
            "block1_conv2 (Conv2D)        (None, 224, 224, 64)      36928     \n",
            "_________________________________________________________________\n",
            "block1_pool (MaxPooling2D)   (None, 112, 112, 64)      0         \n",
            "_________________________________________________________________\n",
            "block2_conv1 (Conv2D)        (None, 112, 112, 128)     73856     \n",
            "_________________________________________________________________\n",
            "block2_conv2 (Conv2D)        (None, 112, 112, 128)     147584    \n",
            "_________________________________________________________________\n",
            "block2_pool (MaxPooling2D)   (None, 56, 56, 128)       0         \n",
            "_________________________________________________________________\n",
            "block3_conv1 (Conv2D)        (None, 56, 56, 256)       295168    \n",
            "_________________________________________________________________\n",
            "block3_conv2 (Conv2D)        (None, 56, 56, 256)       590080    \n",
            "_________________________________________________________________\n",
            "block3_conv3 (Conv2D)        (None, 56, 56, 256)       590080    \n",
            "_________________________________________________________________\n",
            "block3_pool (MaxPooling2D)   (None, 28, 28, 256)       0         \n",
            "_________________________________________________________________\n",
            "block4_conv1 (Conv2D)        (None, 28, 28, 512)       1180160   \n",
            "_________________________________________________________________\n",
            "block4_conv2 (Conv2D)        (None, 28, 28, 512)       2359808   \n",
            "_________________________________________________________________\n",
            "block4_conv3 (Conv2D)        (None, 28, 28, 512)       2359808   \n",
            "_________________________________________________________________\n",
            "block4_pool (MaxPooling2D)   (None, 14, 14, 512)       0         \n",
            "_________________________________________________________________\n",
            "block5_conv1 (Conv2D)        (None, 14, 14, 512)       2359808   \n",
            "_________________________________________________________________\n",
            "block5_conv2 (Conv2D)        (None, 14, 14, 512)       2359808   \n",
            "_________________________________________________________________\n",
            "block5_conv3 (Conv2D)        (None, 14, 14, 512)       2359808   \n",
            "_________________________________________________________________\n",
            "block5_pool (MaxPooling2D)   (None, 7, 7, 512)         0         \n",
            "_________________________________________________________________\n",
            "flatten (Flatten)            (None, 25088)             0         \n",
            "_________________________________________________________________\n",
            "fc1 (Dense)                  (None, 4096)              102764544 \n",
            "_________________________________________________________________\n",
            "fc2 (Dense)                  (None, 4096)              16781312  \n",
            "_________________________________________________________________\n",
            "output (Dense)               (None, 2)                 8194      \n",
            "=================================================================\n",
            "Total params: 134,268,738\n",
            "Trainable params: 134,268,738\n",
            "Non-trainable params: 0\n",
            "_________________________________________________________________\n"
          ],
          "name": "stdout"
        }
      ]
    },
    {
      "cell_type": "code",
      "metadata": {
        "colab": {
          "base_uri": "https://localhost:8080/"
        },
        "id": "xWyOe3gD0hTL",
        "outputId": "214916be-88b6-42a3-a7a7-2879a340d0b6"
      },
      "source": [
        "for layer in custom_vgg_model.layers[:-1]:\n",
        "\tlayer.trainable = False\n",
        "\n",
        "custom_vgg_model.layers[3].trainable\n",
        "\n",
        "custom_vgg_model.compile(loss='binary_crossentropy',optimizer='rmsprop',metrics=['accuracy'])\n",
        "\n",
        "\n",
        "t=time.time()\n",
        "#\tt = now()\n",
        "hist = custom_vgg_model.fit(X_train, y_train, batch_size=12, epochs=50, verbose=1, validation_data=(X_test, y_test))\n",
        "print('Training time: %s' % (t - time.time()))\n",
        "(loss, accuracy) = custom_vgg_model.evaluate(X_test, y_test, batch_size=8, verbose=1)\n",
        "\n",
        "print(\"[INFO] loss={:.4f}, accuracy: {:.4f}%\".format(loss,accuracy * 100))"
      ],
      "execution_count": null,
      "outputs": [
        {
          "output_type": "stream",
          "text": [
            "Epoch 1/50\n",
            "17/17 [==============================] - 128s 8s/step - loss: 0.9569 - accuracy: 0.6825 - val_loss: 0.6267 - val_accuracy: 0.6863\n",
            "Epoch 2/50\n",
            "17/17 [==============================] - 127s 8s/step - loss: 0.3634 - accuracy: 0.8508 - val_loss: 0.7445 - val_accuracy: 0.6863\n",
            "Epoch 3/50\n",
            "17/17 [==============================] - 127s 8s/step - loss: 0.2304 - accuracy: 0.9377 - val_loss: 0.4990 - val_accuracy: 0.8235\n",
            "Epoch 4/50\n",
            "17/17 [==============================] - 132s 8s/step - loss: 0.1738 - accuracy: 0.9410 - val_loss: 0.6348 - val_accuracy: 0.7647\n",
            "Epoch 5/50\n",
            "17/17 [==============================] - 128s 8s/step - loss: 0.1883 - accuracy: 0.9256 - val_loss: 0.5401 - val_accuracy: 0.8039\n",
            "Epoch 6/50\n",
            "17/17 [==============================] - 128s 8s/step - loss: 0.2125 - accuracy: 0.9409 - val_loss: 0.6454 - val_accuracy: 0.7647\n",
            "Epoch 7/50\n",
            "17/17 [==============================] - 128s 8s/step - loss: 0.1224 - accuracy: 0.9828 - val_loss: 0.5378 - val_accuracy: 0.8235\n",
            "Epoch 8/50\n",
            "17/17 [==============================] - 128s 8s/step - loss: 0.1138 - accuracy: 0.9857 - val_loss: 0.6152 - val_accuracy: 0.8039\n",
            "Epoch 9/50\n",
            "17/17 [==============================] - 128s 8s/step - loss: 0.0998 - accuracy: 0.9649 - val_loss: 0.6019 - val_accuracy: 0.8235\n",
            "Epoch 10/50\n",
            "17/17 [==============================] - 128s 8s/step - loss: 0.0680 - accuracy: 0.9894 - val_loss: 0.6026 - val_accuracy: 0.8039\n",
            "Epoch 11/50\n",
            "17/17 [==============================] - 128s 8s/step - loss: 0.0875 - accuracy: 0.9808 - val_loss: 0.7687 - val_accuracy: 0.7647\n",
            "Epoch 12/50\n",
            "17/17 [==============================] - 128s 8s/step - loss: 0.0625 - accuracy: 0.9959 - val_loss: 0.6363 - val_accuracy: 0.8235\n",
            "Epoch 13/50\n",
            "17/17 [==============================] - 128s 8s/step - loss: 0.0513 - accuracy: 0.9871 - val_loss: 0.6528 - val_accuracy: 0.8039\n",
            "Epoch 14/50\n",
            "17/17 [==============================] - 128s 8s/step - loss: 0.0752 - accuracy: 0.9830 - val_loss: 0.7368 - val_accuracy: 0.7843\n",
            "Epoch 15/50\n",
            "17/17 [==============================] - 128s 8s/step - loss: 0.0463 - accuracy: 0.9932 - val_loss: 0.9104 - val_accuracy: 0.7647\n",
            "Epoch 16/50\n",
            "17/17 [==============================] - 128s 8s/step - loss: 0.0260 - accuracy: 0.9994 - val_loss: 1.0305 - val_accuracy: 0.7451\n",
            "Epoch 17/50\n",
            "17/17 [==============================] - 128s 8s/step - loss: 0.0556 - accuracy: 0.9741 - val_loss: 0.7333 - val_accuracy: 0.8431\n",
            "Epoch 18/50\n",
            "17/17 [==============================] - 128s 8s/step - loss: 0.0166 - accuracy: 0.9980 - val_loss: 0.7440 - val_accuracy: 0.8235\n",
            "Epoch 19/50\n",
            "17/17 [==============================] - 128s 8s/step - loss: 0.0475 - accuracy: 0.9830 - val_loss: 0.8948 - val_accuracy: 0.7647\n",
            "Epoch 20/50\n",
            "17/17 [==============================] - 128s 8s/step - loss: 0.0436 - accuracy: 0.9969 - val_loss: 0.7997 - val_accuracy: 0.8431\n",
            "Epoch 21/50\n",
            "17/17 [==============================] - 128s 8s/step - loss: 0.0184 - accuracy: 0.9978 - val_loss: 0.8606 - val_accuracy: 0.8235\n",
            "Epoch 22/50\n",
            "17/17 [==============================] - 128s 8s/step - loss: 0.0186 - accuracy: 0.9980 - val_loss: 0.8395 - val_accuracy: 0.7647\n",
            "Epoch 23/50\n",
            "17/17 [==============================] - 128s 8s/step - loss: 0.0254 - accuracy: 0.9923 - val_loss: 0.8402 - val_accuracy: 0.8235\n",
            "Epoch 24/50\n",
            "17/17 [==============================] - 128s 8s/step - loss: 0.0226 - accuracy: 0.9951 - val_loss: 0.8481 - val_accuracy: 0.8235\n",
            "Epoch 25/50\n",
            "17/17 [==============================] - 128s 8s/step - loss: 0.0154 - accuracy: 0.9951 - val_loss: 0.9302 - val_accuracy: 0.7647\n",
            "Epoch 26/50\n",
            "17/17 [==============================] - 128s 8s/step - loss: 0.0145 - accuracy: 0.9955 - val_loss: 0.8935 - val_accuracy: 0.8235\n",
            "Epoch 27/50\n",
            "17/17 [==============================] - 128s 8s/step - loss: 0.0091 - accuracy: 0.9985 - val_loss: 0.8923 - val_accuracy: 0.8235\n",
            "Epoch 28/50\n",
            "17/17 [==============================] - 128s 8s/step - loss: 0.0105 - accuracy: 0.9958 - val_loss: 0.9081 - val_accuracy: 0.8235\n",
            "Epoch 29/50\n",
            "17/17 [==============================] - 128s 8s/step - loss: 0.0140 - accuracy: 0.9964 - val_loss: 0.9009 - val_accuracy: 0.8235\n",
            "Epoch 30/50\n",
            "17/17 [==============================] - 128s 8s/step - loss: 0.0082 - accuracy: 1.0000 - val_loss: 0.9203 - val_accuracy: 0.8431\n",
            "Epoch 31/50\n",
            "17/17 [==============================] - 128s 8s/step - loss: 0.0074 - accuracy: 0.9963 - val_loss: 0.9129 - val_accuracy: 0.8431\n",
            "Epoch 32/50\n",
            "17/17 [==============================] - 128s 8s/step - loss: 0.0149 - accuracy: 0.9923 - val_loss: 0.9438 - val_accuracy: 0.8235\n",
            "Epoch 33/50\n",
            "17/17 [==============================] - 128s 8s/step - loss: 0.0060 - accuracy: 0.9959 - val_loss: 0.9567 - val_accuracy: 0.8431\n",
            "Epoch 34/50\n",
            "17/17 [==============================] - 128s 8s/step - loss: 0.0035 - accuracy: 1.0000 - val_loss: 0.9986 - val_accuracy: 0.8235\n",
            "Epoch 35/50\n",
            "17/17 [==============================] - 128s 8s/step - loss: 0.0046 - accuracy: 1.0000 - val_loss: 1.0151 - val_accuracy: 0.8235\n",
            "Epoch 36/50\n",
            "17/17 [==============================] - 128s 8s/step - loss: 0.0122 - accuracy: 0.9951 - val_loss: 1.0168 - val_accuracy: 0.8235\n",
            "Epoch 37/50\n",
            "17/17 [==============================] - 128s 8s/step - loss: 0.0036 - accuracy: 0.9994 - val_loss: 1.0387 - val_accuracy: 0.8431\n",
            "Epoch 38/50\n",
            "17/17 [==============================] - 128s 8s/step - loss: 0.0040 - accuracy: 1.0000 - val_loss: 1.0692 - val_accuracy: 0.8235\n",
            "Epoch 39/50\n",
            "17/17 [==============================] - 128s 8s/step - loss: 0.0027 - accuracy: 1.0000 - val_loss: 1.1079 - val_accuracy: 0.7843\n",
            "Epoch 40/50\n",
            "17/17 [==============================] - 128s 8s/step - loss: 0.0038 - accuracy: 1.0000 - val_loss: 1.1269 - val_accuracy: 0.8235\n",
            "Epoch 41/50\n",
            "17/17 [==============================] - 128s 8s/step - loss: 0.0018 - accuracy: 0.9994 - val_loss: 1.5353 - val_accuracy: 0.7451\n",
            "Epoch 42/50\n",
            "17/17 [==============================] - 128s 8s/step - loss: 0.0166 - accuracy: 1.0000 - val_loss: 1.1335 - val_accuracy: 0.8235\n",
            "Epoch 43/50\n",
            "17/17 [==============================] - 128s 8s/step - loss: 0.0021 - accuracy: 1.0000 - val_loss: 1.1464 - val_accuracy: 0.8431\n",
            "Epoch 44/50\n",
            "17/17 [==============================] - 128s 8s/step - loss: 0.0040 - accuracy: 1.0000 - val_loss: 1.1625 - val_accuracy: 0.8235\n",
            "Epoch 45/50\n",
            "17/17 [==============================] - 128s 8s/step - loss: 0.0050 - accuracy: 1.0000 - val_loss: 1.1959 - val_accuracy: 0.8235\n",
            "Epoch 46/50\n",
            "17/17 [==============================] - 128s 8s/step - loss: 0.0013 - accuracy: 1.0000 - val_loss: 1.1996 - val_accuracy: 0.8235\n",
            "Epoch 47/50\n",
            "17/17 [==============================] - 128s 8s/step - loss: 0.0013 - accuracy: 1.0000 - val_loss: 1.2484 - val_accuracy: 0.8431\n",
            "Epoch 48/50\n",
            "17/17 [==============================] - 127s 8s/step - loss: 0.0016 - accuracy: 1.0000 - val_loss: 1.4683 - val_accuracy: 0.7451\n",
            "Epoch 49/50\n",
            "17/17 [==============================] - 127s 8s/step - loss: 0.0023 - accuracy: 1.0000 - val_loss: 1.3025 - val_accuracy: 0.8235\n",
            "Epoch 50/50\n",
            "17/17 [==============================] - 127s 8s/step - loss: 0.0027 - accuracy: 1.0000 - val_loss: 1.2634 - val_accuracy: 0.8235\n",
            "Training time: -6387.619561433792\n",
            "7/7 [==============================] - 26s 4s/step - loss: 1.2634 - accuracy: 0.8235\n",
            "[INFO] loss=1.2634, accuracy: 82.3529%\n"
          ],
          "name": "stdout"
        }
      ]
    },
    {
      "cell_type": "code",
      "metadata": {
        "colab": {
          "base_uri": "https://localhost:8080/"
        },
        "id": "ZPtNEYpL0nk5",
        "outputId": "7ba2b390-5f7a-41fa-9910-5d4a055514ce"
      },
      "source": [
        "#Save Model to json\n",
        "model_json = model.to_json()\n",
        "with open(\"Json_TL_BrainTum.json\", \"w\") as json_file:\n",
        "    json_file.write(model_json)\n",
        "# serialize weights to HDF5\n",
        "model.save_weights(\"TLBrain_Tum_weights.h5\")\n",
        "\n",
        "print(\"Saved model to disk\")\n",
        "\n",
        "#Saving Weights\n",
        "model.save(\"Model_TL_BrainTum*h5\")"
      ],
      "execution_count": null,
      "outputs": [
        {
          "output_type": "stream",
          "text": [
            "Saved model to disk\n",
            "INFO:tensorflow:Assets written to: Model_TL_BrainTum*h5/assets\n"
          ],
          "name": "stdout"
        }
      ]
    },
    {
      "cell_type": "code",
      "metadata": {
        "colab": {
          "base_uri": "https://localhost:8080/",
          "height": 350
        },
        "id": "w7KEr89Q1fRP",
        "outputId": "287c0918-2665-4b07-9e78-6baf49730a07"
      },
      "source": [
        "#Ploting graphs \n",
        "import matplotlib.pyplot as plt\n",
        "# visualizing losses and accuracy\n",
        "train_loss=hist.history['loss']\n",
        "val_loss=hist.history['val_loss']\n",
        "train_acc=hist.history['accuracy']\n",
        "val_acc=hist.history['val_accuracy']\n",
        "xc=range(50)\n",
        "\n",
        "plt.figure(1,figsize=(7,5))\n",
        "plt.plot(xc,train_loss)\n",
        "plt.plot(xc,val_loss)\n",
        "plt.xlabel('num of Epochs')\n",
        "plt.ylabel('loss')\n",
        "plt.title('train_loss vs val_loss')\n",
        "plt.grid(True)\n",
        "plt.legend(['train','val'])\n",
        "#print plt.style.available # use bmh, classic,ggplot for big pictures\n",
        "plt.style.use(['classic'])"
      ],
      "execution_count": null,
      "outputs": [
        {
          "output_type": "display_data",
          "data": {
            "image/png": "[encoded data removed]",
            "text/plain": [
              "<Figure size 504x360 with 1 Axes>"
            ]
          },
          "metadata": {
            "tags": [],
            "needs_background": "light"
          }
        }
      ]
    },
    {
      "cell_type": "code",
      "metadata": {
        "colab": {
          "base_uri": "https://localhost:8080/",
          "height": 406
        },
        "id": "lpa0TAzi5PUa",
        "outputId": "27bbf447-6e0f-4563-cbad-8303aa831b39"
      },
      "source": [
        "plt.figure(2,figsize=(7,5))\n",
        "plt.plot(xc,train_acc)\n",
        "plt.plot(xc,val_acc)\n",
        "plt.xlabel('num of Epochs')\n",
        "plt.ylabel('accuracy')\n",
        "plt.title('train_acc vs val_acc')\n",
        "plt.grid(True)\n",
        "plt.legend(['train','val'],loc=4)\n",
        "#print plt.style.available # use bmh, classic,ggplot for big pictures\n",
        "plt.style.use(['classic'])\n",
        "\n"
      ],
      "execution_count": null,
      "outputs": [
        {
          "output_type": "display_data",
          "data": {
            "image/png": "[encoded data removed]",
            "text/plain": [
              "<Figure size 560x400 with 1 Axes>"
            ]
          },
          "metadata": {
            "tags": []
          }
        }
      ]
    },
    {
      "cell_type": "code",
      "metadata": {
        "colab": {
          "base_uri": "https://localhost:8080/"
        },
        "id": "ov25nMxc8X9b",
        "outputId": "f7c64b8c-2014-46f4-c5bb-0e4af711141b"
      },
      "source": [
        "# prediction\n",
        "import numpy as np\n",
        "import matplotlib.pyplot as plt\n",
        "from keras.preprocessing import image\n",
        "import tkinter as tk\n",
        "from tkinter import filedialog\n",
        "\n",
        "#root = tk.Tk()\n",
        "#root.withdraw()\n",
        "\n",
        "#file_path = filedialog.askopenfilename()\n",
        "\n",
        "file_path= \"/content/drive/MyDrive/vgg_cancer/test/no/No16.jpg\"\n",
        "print(\"file path is :::------------\")\n",
        "print(file_path)\n",
        "img = image.load_img(file_path,target_size=(224,224))\n",
        "img = np.asarray(img)\n",
        "\n",
        "#used this new line instead of old one above by time\n",
        "#img=np.reshape(img,(224,224,1))\n",
        "\n",
        "\n",
        "img = np.expand_dims(img, axis=0)\n",
        "from keras.models import load_model\n",
        "#saved_model = load_model(\"vgg16.h5\")\n",
        "saved_model = load_model(\"/content/drive/MyDrive/vgg_cancer/CancerDetect.h5\")\n",
        "output = saved_model.predict(img)\n",
        "if output[0][0] > output[0][1]:\n",
        "    print(\"Cancer\")\n",
        "else:\n",
        "    print('Not detected')"
      ],
      "execution_count": null,
      "outputs": [
        {
          "output_type": "stream",
          "text": [
            "file path is :::------------\n",
            "/content/drive/MyDrive/vgg_cancer/test/no/No16.jpg\n",
            "WARNING:tensorflow:No training configuration found in the save file, so the model was *not* compiled. Compile it manually.\n",
            "WARNING:tensorflow:7 out of the last 7 calls to <function Model.make_predict_function.<locals>.predict_function at 0x7fd6549b0ef0> triggered tf.function retracing. Tracing is expensive and the excessive number of tracings could be due to (1) creating @tf.function repeatedly in a loop, (2) passing tensors with different shapes, (3) passing Python objects instead of tensors. For (1), please define your @tf.function outside of the loop. For (2), @tf.function has experimental_relax_shapes=True option that relaxes argument shapes that can avoid unnecessary retracing. For (3), please refer to https://www.tensorflow.org/guide/function#controlling_retracing and https://www.tensorflow.org/api_docs/python/tf/function for  more details.\n",
            "Not detected\n"
          ],
          "name": "stdout"
        }
      ]
    },
    {
      "cell_type": "markdown",
      "metadata": {
        "id": "6CKbPwqOMjKl"
      },
      "source": [
        "### **Another model**"
      ]
    },
    {
      "cell_type": "code",
      "metadata": {
        "colab": {
          "base_uri": "https://localhost:8080/"
        },
        "id": "xLlDtINEpEmX",
        "outputId": "ad5955db-3a48-489d-e35d-603ecdc6117d"
      },
      "source": [
        "!pip install livelossplot\n"
      ],
      "execution_count": null,
      "outputs": [
        {
          "output_type": "stream",
          "text": [
            "Collecting livelossplot\n",
            "  Downloading https://files.pythonhosted.org/packages/57/26/840be243088ce142d61c60273408ec09fa1de4534056a56d6e91b73f0cae/livelossplot-0.5.4-py3-none-any.whl\n",
            "Requirement already satisfied: ipython in /usr/local/lib/python3.7/dist-packages (from livelossplot) (5.5.0)\n",
            "Requirement already satisfied: bokeh in /usr/local/lib/python3.7/dist-packages (from livelossplot) (2.3.1)\n",
            "Requirement already satisfied: matplotlib in /usr/local/lib/python3.7/dist-packages (from livelossplot) (3.2.2)\n",
            "Requirement already satisfied: pexpect; sys_platform != \"win32\" in /usr/local/lib/python3.7/dist-packages (from ipython->livelossplot) (4.8.0)\n",
            "Requirement already satisfied: setuptools>=18.5 in /usr/local/lib/python3.7/dist-packages (from ipython->livelossplot) (56.0.0)\n",
            "Requirement already satisfied: pygments in /usr/local/lib/python3.7/dist-packages (from ipython->livelossplot) (2.6.1)\n",
            "Requirement already satisfied: prompt-toolkit<2.0.0,>=1.0.4 in /usr/local/lib/python3.7/dist-packages (from ipython->livelossplot) (1.0.18)\n",
            "Requirement already satisfied: traitlets>=4.2 in /usr/local/lib/python3.7/dist-packages (from ipython->livelossplot) (5.0.5)\n",
            "Requirement already satisfied: simplegeneric>0.8 in /usr/local/lib/python3.7/dist-packages (from ipython->livelossplot) (0.8.1)\n",
            "Requirement already satisfied: pickleshare in /usr/local/lib/python3.7/dist-packages (from ipython->livelossplot) (0.7.5)\n",
            "Requirement already satisfied: decorator in /usr/local/lib/python3.7/dist-packages (from ipython->livelossplot) (4.4.2)\n",
            "Requirement already satisfied: pillow>=7.1.0 in /usr/local/lib/python3.7/dist-packages (from bokeh->livelossplot) (7.1.2)\n",
            "Requirement already satisfied: numpy>=1.11.3 in /usr/local/lib/python3.7/dist-packages (from bokeh->livelossplot) (1.19.5)\n",
            "Requirement already satisfied: PyYAML>=3.10 in /usr/local/lib/python3.7/dist-packages (from bokeh->livelossplot) (3.13)\n",
            "Requirement already satisfied: typing-extensions>=3.7.4 in /usr/local/lib/python3.7/dist-packages (from bokeh->livelossplot) (3.7.4.3)\n",
            "Requirement already satisfied: packaging>=16.8 in /usr/local/lib/python3.7/dist-packages (from bokeh->livelossplot) (20.9)\n",
            "Requirement already satisfied: tornado>=5.1 in /usr/local/lib/python3.7/dist-packages (from bokeh->livelossplot) (5.1.1)\n",
            "Requirement already satisfied: python-dateutil>=2.1 in /usr/local/lib/python3.7/dist-packages (from bokeh->livelossplot) (2.8.1)\n",
            "Requirement already satisfied: Jinja2>=2.7 in /usr/local/lib/python3.7/dist-packages (from bokeh->livelossplot) (2.11.3)\n",
            "Requirement already satisfied: kiwisolver>=1.0.1 in /usr/local/lib/python3.7/dist-packages (from matplotlib->livelossplot) (1.3.1)\n",
            "Requirement already satisfied: pyparsing!=2.0.4,!=2.1.2,!=2.1.6,>=2.0.1 in /usr/local/lib/python3.7/dist-packages (from matplotlib->livelossplot) (2.4.7)\n",
            "Requirement already satisfied: cycler>=0.10 in /usr/local/lib/python3.7/dist-packages (from matplotlib->livelossplot) (0.10.0)\n",
            "Requirement already satisfied: ptyprocess>=0.5 in /usr/local/lib/python3.7/dist-packages (from pexpect; sys_platform != \"win32\"->ipython->livelossplot) (0.7.0)\n",
            "Requirement already satisfied: six>=1.9.0 in /usr/local/lib/python3.7/dist-packages (from prompt-toolkit<2.0.0,>=1.0.4->ipython->livelossplot) (1.15.0)\n",
            "Requirement already satisfied: wcwidth in /usr/local/lib/python3.7/dist-packages (from prompt-toolkit<2.0.0,>=1.0.4->ipython->livelossplot) (0.2.5)\n",
            "Requirement already satisfied: ipython-genutils in /usr/local/lib/python3.7/dist-packages (from traitlets>=4.2->ipython->livelossplot) (0.2.0)\n",
            "Requirement already satisfied: MarkupSafe>=0.23 in /usr/local/lib/python3.7/dist-packages (from Jinja2>=2.7->bokeh->livelossplot) (1.1.1)\n",
            "Installing collected packages: livelossplot\n",
            "Successfully installed livelossplot-0.5.4\n"
          ],
          "name": "stdout"
        }
      ]
    },
    {
      "cell_type": "markdown",
      "metadata": {
        "id": "P_d0hjZbMna7"
      },
      "source": [
        "Custom training with black and white images"
      ]
    },
    {
      "cell_type": "code",
      "metadata": {
        "id": "aoC_t9pLMsQj"
      },
      "source": [
        "import keras,os\n",
        "from keras.models import Sequential\n",
        "from keras.layers import Dense, Conv2D, MaxPool2D , Flatten\n",
        "from keras.preprocessing.image import ImageDataGenerator\n",
        "import numpy as np\n",
        "from tensorflow.keras.preprocessing.image import ImageDataGenerator\n",
        "from tensorflow.keras.optimizers import Adam\n",
        "from tensorflow.keras.callbacks import ModelCheckpoint, ReduceLROnPlateau\n",
        "from tensorflow.keras.utils import plot_model\n",
        "from IPython.display import SVG, Image\n",
        "from livelossplot import PlotLossesKerasTF\n",
        "import tensorflow as tf"
      ],
      "execution_count": null,
      "outputs": []
    },
    {
      "cell_type": "code",
      "metadata": {
        "colab": {
          "base_uri": "https://localhost:8080/"
        },
        "id": "PxDKhgj6M1IY",
        "outputId": "d251d099-9c83-4643-e55d-faad9593224b"
      },
      "source": [
        "#using data aug\n",
        "img_size = 224\n",
        "batch_size = 12\n",
        "\n",
        "datagen_train = ImageDataGenerator(horizontal_flip=True)\n",
        "traindata = datagen_train.flow_from_directory(\"/content/drive/MyDrive/vgg_cancer/train/\",\n",
        "                                                        target_size=(img_size,img_size),\n",
        "                                                        color_mode='grayscale',\n",
        "                                                        batch_size=batch_size,\n",
        "                                                        class_mode='categorical',\n",
        "                                                        shuffle=True)\n",
        "\n",
        "datagen_validation = ImageDataGenerator(horizontal_flip=True)\n",
        "\n",
        "testdata = datagen_train.flow_from_directory(\"/content/drive/MyDrive/vgg_cancer/test/\",\n",
        "                                                        target_size=(img_size,img_size),\n",
        "                                                        color_mode='grayscale',\n",
        "                                                        batch_size=batch_size,\n",
        "                                                        class_mode='categorical',\n",
        "                                                        shuffle=True)"
      ],
      "execution_count": null,
      "outputs": [
        {
          "output_type": "stream",
          "text": [
            "Found 204 images belonging to 2 classes.\n",
            "Found 56 images belonging to 2 classes.\n"
          ],
          "name": "stdout"
        }
      ]
    },
    {
      "cell_type": "code",
      "metadata": {
        "colab": {
          "base_uri": "https://localhost:8080/"
        },
        "id": "0_jW9M-7NClI",
        "outputId": "736ef3aa-b7eb-407c-c6b6-edbca97385c0"
      },
      "source": [
        "#Model Start here\n",
        "#l1\n",
        "model = Sequential()\n",
        "model.add(Conv2D(input_shape=(224,224,1),filters=64,kernel_size=(3,3),padding=\"same\", activation=\"relu\"))\n",
        "model.add(Conv2D(filters=64,kernel_size=(3,3),padding=\"same\", activation=\"relu\"))\n",
        "model.add(MaxPool2D(pool_size=(2,2),strides=(2,2)))\n",
        "#l2\n",
        "model.add(Conv2D(filters=128, kernel_size=(3,3), padding=\"same\", activation=\"relu\"))\n",
        "model.add(Conv2D(filters=128, kernel_size=(3,3), padding=\"same\", activation=\"relu\"))\n",
        "model.add(MaxPool2D(pool_size=(2,2),strides=(2,2)))\n",
        "\n",
        "model.add(Conv2D(filters=256, kernel_size=(3,3), padding=\"same\", activation=\"relu\"))\n",
        "model.add(Conv2D(filters=256, kernel_size=(3,3), padding=\"same\", activation=\"relu\"))\n",
        "model.add(Conv2D(filters=256, kernel_size=(3,3), padding=\"same\", activation=\"relu\"))\n",
        "model.add(MaxPool2D(pool_size=(2,2),strides=(2,2)))\n",
        "\n",
        "model.add(Conv2D(filters=512, kernel_size=(3,3), padding=\"same\", activation=\"relu\"))\n",
        "model.add(Conv2D(filters=512, kernel_size=(3,3), padding=\"same\", activation=\"relu\"))\n",
        "model.add(Conv2D(filters=512, kernel_size=(3,3), padding=\"same\", activation=\"relu\"))\n",
        "model.add(MaxPool2D(pool_size=(2,2),strides=(2,2)))\n",
        "\n",
        "model.add(Conv2D(filters=512, kernel_size=(3,3), padding=\"same\", activation=\"relu\"))\n",
        "model.add(Conv2D(filters=512, kernel_size=(3,3), padding=\"same\", activation=\"relu\"))\n",
        "model.add(Conv2D(filters=512, kernel_size=(3,3), padding=\"same\", activation=\"relu\"))\n",
        "model.add(MaxPool2D(pool_size=(2,2),strides=(2,2)))                                                        \n",
        "\n",
        "model.add(Flatten())\n",
        "model.add(Dense(units=4096,activation=\"relu\"))\n",
        "model.add(Dense(units=4096,activation=\"relu\"))\n",
        "model.add(Dense(units=2, activation=\"softmax\"))\n",
        "\n",
        "from keras.optimizers import Adam \n",
        "opt = Adam(lr=0.001)\n",
        "model.compile(optimizer=opt, loss=keras.losses.categorical_crossentropy, metrics=['accuracy'])\n",
        "\n",
        "#To print summary\n",
        "model.summary()\n"
      ],
      "execution_count": null,
      "outputs": [
        {
          "output_type": "stream",
          "text": [
            "Model: \"sequential\"\n",
            "_________________________________________________________________\n",
            "Layer (type)                 Output Shape              Param #   \n",
            "=================================================================\n",
            "conv2d (Conv2D)              (None, 224, 224, 64)      640       \n",
            "_________________________________________________________________\n",
            "conv2d_1 (Conv2D)            (None, 224, 224, 64)      36928     \n",
            "_________________________________________________________________\n",
            "max_pooling2d (MaxPooling2D) (None, 112, 112, 64)      0         \n",
            "_________________________________________________________________\n",
            "conv2d_2 (Conv2D)            (None, 112, 112, 128)     73856     \n",
            "_________________________________________________________________\n",
            "conv2d_3 (Conv2D)            (None, 112, 112, 128)     147584    \n",
            "_________________________________________________________________\n",
            "max_pooling2d_1 (MaxPooling2 (None, 56, 56, 128)       0         \n",
            "_________________________________________________________________\n",
            "conv2d_4 (Conv2D)            (None, 56, 56, 256)       295168    \n",
            "_________________________________________________________________\n",
            "conv2d_5 (Conv2D)            (None, 56, 56, 256)       590080    \n",
            "_________________________________________________________________\n",
            "conv2d_6 (Conv2D)            (None, 56, 56, 256)       590080    \n",
            "_________________________________________________________________\n",
            "max_pooling2d_2 (MaxPooling2 (None, 28, 28, 256)       0         \n",
            "_________________________________________________________________\n",
            "conv2d_7 (Conv2D)            (None, 28, 28, 512)       1180160   \n",
            "_________________________________________________________________\n",
            "conv2d_8 (Conv2D)            (None, 28, 28, 512)       2359808   \n",
            "_________________________________________________________________\n",
            "conv2d_9 (Conv2D)            (None, 28, 28, 512)       2359808   \n",
            "_________________________________________________________________\n",
            "max_pooling2d_3 (MaxPooling2 (None, 14, 14, 512)       0         \n",
            "_________________________________________________________________\n",
            "conv2d_10 (Conv2D)           (None, 14, 14, 512)       2359808   \n",
            "_________________________________________________________________\n",
            "conv2d_11 (Conv2D)           (None, 14, 14, 512)       2359808   \n",
            "_________________________________________________________________\n",
            "conv2d_12 (Conv2D)           (None, 14, 14, 512)       2359808   \n",
            "_________________________________________________________________\n",
            "max_pooling2d_4 (MaxPooling2 (None, 7, 7, 512)         0         \n",
            "_________________________________________________________________\n",
            "flatten (Flatten)            (None, 25088)             0         \n",
            "_________________________________________________________________\n",
            "dense (Dense)                (None, 4096)              102764544 \n",
            "_________________________________________________________________\n",
            "dense_1 (Dense)              (None, 4096)              16781312  \n",
            "_________________________________________________________________\n",
            "dense_2 (Dense)              (None, 2)                 8194      \n",
            "=================================================================\n",
            "Total params: 134,267,586\n",
            "Trainable params: 134,267,586\n",
            "Non-trainable params: 0\n",
            "_________________________________________________________________\n"
          ],
          "name": "stdout"
        }
      ]
    },
    {
      "cell_type": "code",
      "metadata": {
        "colab": {
          "base_uri": "https://localhost:8080/",
          "height": 812
        },
        "id": "pKTkBgd5NIu-",
        "outputId": "cefb81e6-e32b-4c11-b47f-51f4b11cd293"
      },
      "source": [
        "#Start training\n",
        "\n",
        "steps_per_epoch = traindata.n//traindata.batch_size\n",
        "validation_steps = testdata.n//testdata.batch_size\n",
        "\n",
        "#model saving\n",
        "reduce_lr = ReduceLROnPlateau(monitor='val_loss', factor=0.1,\n",
        "                              patience=2, min_lr=0.00001, mode='auto')\n",
        "checkpoint = ModelCheckpoint(\"vgg16.h5\", monitor='val_accuracy',\n",
        "                             save_weights_only=False, mode='max', verbose=1)\n",
        "callbacks = [PlotLossesKerasTF(), checkpoint, reduce_lr]\n",
        "\n",
        "\n",
        "\n",
        "history = model.fit(\n",
        "    x=traindata,\n",
        "    steps_per_epoch=steps_per_epoch,\n",
        "    epochs=20,\n",
        "    validation_data = testdata,\n",
        "    validation_steps = validation_steps ,\n",
        "    callbacks=callbacks\n",
        "    )\n"
      ],
      "execution_count": null,
      "outputs": [
        {
          "output_type": "display_data",
          "data": {
            "image/png": "[encoded data removed]",
            "text/plain": [
              "<Figure size 960x640 with 2 Axes>"
            ]
          },
          "metadata": {
            "tags": []
          }
        },
        {
          "output_type": "stream",
          "text": [
            "accuracy\n",
            "\ttraining         \t (min:    0.564, max:    0.750, cur:    0.750)\n",
            "\tvalidation       \t (min:    0.521, max:    0.875, cur:    0.875)\n",
            "Loss\n",
            "\ttraining         \t (min:    0.517, max:   94.170, cur:    0.517)\n",
            "\tvalidation       \t (min:    0.464, max:    0.692, cur:    0.486)\n",
            "\n",
            "Epoch 00016: saving model to vgg16.h5\n",
            "Epoch 17/20\n",
            " 1/17 [>.............................] - ETA: 6:39 - loss: 0.6586 - accuracy: 0.5000"
          ],
          "name": "stdout"
        }
      ]
    },
    {
      "cell_type": "markdown",
      "metadata": {
        "id": "wQlCdvP3Qd9R"
      },
      "source": [
        "### Check for detection"
      ]
    },
    {
      "cell_type": "code",
      "metadata": {
        "colab": {
          "base_uri": "https://localhost:8080/"
        },
        "id": "DClxihPFQiT7",
        "outputId": "d55b7fc2-00fa-473f-cc61-f9ad5337afa4"
      },
      "source": [
        "import numpy as np\n",
        "import matplotlib.pyplot as plt\n",
        "from keras.preprocessing import image\n",
        "import tkinter as tk\n",
        "from tkinter import filedialog\n",
        "\n",
        "\n",
        "\n",
        "#file_path = filedialog.askopenfilename()\n",
        "file_path = \"/content/drive/MyDrive/vgg_cancer/test/no/No15.jpg\"\n",
        "print(\"file path is :::------------\")\n",
        "print(file_path)\n",
        "img = image.load_img(file_path,target_size=(224,224), grayscale=True)\n",
        "#img = np.asarray(img)\n",
        "\n",
        "#used this new line instead of old one above by time\n",
        "img=np.reshape(img,(224,224,1))\n",
        "\n",
        "\n",
        "img = np.expand_dims(img, axis=0)\n",
        "from keras.models import load_model\n",
        "#saved_model = load_model(\"vgg16.h5\")\n",
        "saved_model = load_model(\"/content/drive/MyDrive/vgg_cancer/vgg16.h5\")\n",
        "output = saved_model.predict(img)\n",
        "if output[0][0] > output[0][1]:\n",
        "    print(\"Not Cancer\")\n",
        "else:\n",
        "    print('Cancer')\n",
        "\n",
        "\n"
      ],
      "execution_count": null,
      "outputs": [
        {
          "output_type": "stream",
          "text": [
            "file path is :::------------\n",
            "/content/drive/MyDrive/vgg_cancer/test/no/No15.jpg\n"
          ],
          "name": "stdout"
        },
        {
          "output_type": "stream",
          "text": [
            "/usr/local/lib/python3.7/dist-packages/keras_preprocessing/image/utils.py:107: UserWarning: grayscale is deprecated. Please use color_mode = \"grayscale\"\n",
            "  warnings.warn('grayscale is deprecated. Please use '\n"
          ],
          "name": "stderr"
        },
        {
          "output_type": "stream",
          "text": [
            "Not Cancer\n"
          ],
          "name": "stdout"
        }
      ]
    }
  ]
}